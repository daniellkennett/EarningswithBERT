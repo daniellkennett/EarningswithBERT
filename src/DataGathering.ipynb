{
 "cells": [
  {
   "cell_type": "code",
   "execution_count": 2,
   "id": "2d459951",
   "metadata": {},
   "outputs": [],
   "source": [
    "import requests\n",
    "import pandas as pd\n",
    "import numpy as np\n",
    "import matplotlib.pyplot as plt\n",
    "from datetime import datetime, timedelta\n",
    "\n",
    "\n",
    "### https://github.com/google-research/bert\n",
    "### https://arxiv.org/pdf/1810.04805.pdf\n",
    "### "
   ]
  },
  {
   "cell_type": "code",
   "execution_count": 3,
   "id": "cb4a6ced",
   "metadata": {},
   "outputs": [],
   "source": [
    "### Problem, this method does not exclude questions. ###\n",
    "def call_pull(ticker, year, quarter,key = 'e46f1a303dafb62460de104424a00084'):\n",
    "    try:\n",
    "        transcript = requests.get(f'https://financialmodelingprep.com/api/v3/earning_call_transcript/{ticker}?quarter={quarter}&year={year}&apikey={key}').json()\n",
    "        tran = transcript[0]['content']\n",
    "        date = transcript[0]['date']\n",
    "        return tran\n",
    "    except:\n",
    "        pass\n",
    "\n",
    "\n",
    "\n",
    "test_tech = ['AMZN','AGYS','NTCT']\n",
    "test_quarters= [1]\n",
    "test_years = [2020]\n",
    "# call_pull('ACIW', 2020, 1)"
   ]
  },
  {
   "cell_type": "code",
   "execution_count": 4,
   "id": "d3ae8183",
   "metadata": {},
   "outputs": [],
   "source": [
    "def entire_report_pull(stock_list, year_list=[2020], quarter_list=[1,2,3,4]):\n",
    "    report = []\n",
    "    for stock in stock_list:\n",
    "        for yr in year_list:\n",
    "            for qtr in quarter_list:\n",
    "                stonks = []\n",
    "                stonks.append(stock)\n",
    "#                 stonks.append(f'{yr}')\n",
    "                try:\n",
    "                    trans, date = call_pull(stock, yr, qtr)\n",
    "                    stonks.append(trans)\n",
    "                    stonks.append(date)\n",
    "                except:\n",
    "                    stonks.append(np.nan)\n",
    "                    stonks.append(np.nan)\n",
    "                report.append(stonks)\n",
    "    return pd.DataFrame(report, columns = ['Ticker','Transcript', 'Date'])"
   ]
  },
  {
   "cell_type": "code",
   "execution_count": 6,
   "id": "c8b7754b",
   "metadata": {
    "scrolled": true
   },
   "outputs": [
    {
     "data": {
      "text/html": [
       "<div>\n",
       "<style scoped>\n",
       "    .dataframe tbody tr th:only-of-type {\n",
       "        vertical-align: middle;\n",
       "    }\n",
       "\n",
       "    .dataframe tbody tr th {\n",
       "        vertical-align: top;\n",
       "    }\n",
       "\n",
       "    .dataframe thead th {\n",
       "        text-align: right;\n",
       "    }\n",
       "</style>\n",
       "<table border=\"1\" class=\"dataframe\">\n",
       "  <thead>\n",
       "    <tr style=\"text-align: right;\">\n",
       "      <th></th>\n",
       "      <th>Ticker</th>\n",
       "      <th>Transcript</th>\n",
       "      <th>Date</th>\n",
       "    </tr>\n",
       "  </thead>\n",
       "  <tbody>\n",
       "    <tr>\n",
       "      <th>0</th>\n",
       "      <td>AMZN</td>\n",
       "      <td>NaN</td>\n",
       "      <td>NaN</td>\n",
       "    </tr>\n",
       "    <tr>\n",
       "      <th>1</th>\n",
       "      <td>AMZN</td>\n",
       "      <td>NaN</td>\n",
       "      <td>NaN</td>\n",
       "    </tr>\n",
       "    <tr>\n",
       "      <th>2</th>\n",
       "      <td>AMZN</td>\n",
       "      <td>NaN</td>\n",
       "      <td>NaN</td>\n",
       "    </tr>\n",
       "    <tr>\n",
       "      <th>3</th>\n",
       "      <td>AMZN</td>\n",
       "      <td>NaN</td>\n",
       "      <td>NaN</td>\n",
       "    </tr>\n",
       "    <tr>\n",
       "      <th>4</th>\n",
       "      <td>AGYS</td>\n",
       "      <td>NaN</td>\n",
       "      <td>NaN</td>\n",
       "    </tr>\n",
       "    <tr>\n",
       "      <th>5</th>\n",
       "      <td>AGYS</td>\n",
       "      <td>NaN</td>\n",
       "      <td>NaN</td>\n",
       "    </tr>\n",
       "    <tr>\n",
       "      <th>6</th>\n",
       "      <td>AGYS</td>\n",
       "      <td>NaN</td>\n",
       "      <td>NaN</td>\n",
       "    </tr>\n",
       "    <tr>\n",
       "      <th>7</th>\n",
       "      <td>AGYS</td>\n",
       "      <td>NaN</td>\n",
       "      <td>NaN</td>\n",
       "    </tr>\n",
       "    <tr>\n",
       "      <th>8</th>\n",
       "      <td>NTCT</td>\n",
       "      <td>NaN</td>\n",
       "      <td>NaN</td>\n",
       "    </tr>\n",
       "    <tr>\n",
       "      <th>9</th>\n",
       "      <td>NTCT</td>\n",
       "      <td>NaN</td>\n",
       "      <td>NaN</td>\n",
       "    </tr>\n",
       "    <tr>\n",
       "      <th>10</th>\n",
       "      <td>NTCT</td>\n",
       "      <td>NaN</td>\n",
       "      <td>NaN</td>\n",
       "    </tr>\n",
       "    <tr>\n",
       "      <th>11</th>\n",
       "      <td>NTCT</td>\n",
       "      <td>NaN</td>\n",
       "      <td>NaN</td>\n",
       "    </tr>\n",
       "  </tbody>\n",
       "</table>\n",
       "</div>"
      ],
      "text/plain": [
       "   Ticker  Transcript  Date\n",
       "0    AMZN         NaN   NaN\n",
       "1    AMZN         NaN   NaN\n",
       "2    AMZN         NaN   NaN\n",
       "3    AMZN         NaN   NaN\n",
       "4    AGYS         NaN   NaN\n",
       "5    AGYS         NaN   NaN\n",
       "6    AGYS         NaN   NaN\n",
       "7    AGYS         NaN   NaN\n",
       "8    NTCT         NaN   NaN\n",
       "9    NTCT         NaN   NaN\n",
       "10   NTCT         NaN   NaN\n",
       "11   NTCT         NaN   NaN"
      ]
     },
     "execution_count": 6,
     "metadata": {},
     "output_type": "execute_result"
    }
   ],
   "source": [
    "test = entire_report_pull(test_tech)\n",
    "test.shape\n",
    "test"
   ]
  },
  {
   "cell_type": "code",
   "execution_count": 19,
   "id": "58a7886b",
   "metadata": {},
   "outputs": [
    {
     "data": {
      "text/plain": [
       "[\" [Operator Instructions] And we'll take our first question from Matt Hedberg with RBC Capital Markets.\",\n",
       " \"Matt Hedberg: Maybe Anil on the North America service provider, you noted an additional 7-figure win for 5G monitoring it sounds like this is the second order within this fiscal year for this carrier or this service provider, which is great. I guess I'm wondering based on historic build-out trends, how much more capacity might this service provider have for additional orders such as this, as they continue to build out their 5G network?\",\n",
       " \"Anil Singhal: Yes for this Matt, I don't think this provider there is a lot more capacity next year, but this is being bought to other opportunities in the U.S. So that's a big side because this establishes ourselves and people are even though we don't talk about the names other vendors know that we won this and run it against the competition.And so this helps us cement other deals next year in fiscal year '21 which are 5G related with lot of credibility plus we solidified the solution. So, while I don't see big orders from them of this space next year, I think this is something which is going to really help us in all other places and where 5G is going to be deployed.\"]"
      ]
     },
     "execution_count": 19,
     "metadata": {},
     "output_type": "execute_result"
    }
   ],
   "source": [
    "dialogue[:3]"
   ]
  },
  {
   "cell_type": "code",
   "execution_count": 11,
   "id": "c4e4a127",
   "metadata": {},
   "outputs": [
    {
     "data": {
      "text/plain": [
       "[\"Operator: Good day, everyone. Welcome to the Apple Incorporated Third Quarter Fiscal Year 2020 Earnings Conference Call. Today's call is being recorded. At this time, for opening remarks and introductions, I would like to turn things over to Mr. Tejas Gala, Senior Manager, Corporate Finance and Investor Relations. Please go ahead, sir. Tejas Gala: Thank you. Good afternoon and thank you for joining us. Speaking first today is Apple's CEO, Tim Cook; and he'll be followed by CFO, Luca Maestri. After that, we'll open the call to questions from analysts. Please note that some of the information you'll hear during our discussion today will consist of forward-looking statements including without limitation those regarding revenue, gross margin, operating expenses, other income and expense, taxes, capital allocation, and future business outlook, including the potential impact of COVID-19 on the company's business and results of operations. Actual results or trends could differ materially from our forecast. For more information, please refer to the risk factors discussed in Apple's most recently filed periodic reports Form 10-K and Form 10-Q and the Form 8-K filed with the SEC today along with the associated press release. Apple assumes no obligation to update any forward-looking statements or\",\n",
       " \"from our forecast. For more information, please refer to the risk factors discussed in Apple's most recently filed periodic reports Form 10-K and Form 10-Q and the Form 8-K filed with the SEC today along with the associated press release. Apple assumes no obligation to update any forward-looking statements or information, which speak as of their respective dates. I'd now like to turn the call over to Tim for introductory remarks. Tim Cook: Thanks, Tejas. Good afternoon, everyone. Thanks for joining the call today. Before we begin, I joined the many millions across this country in mourning and memorialize Congressman John Lewis, who was laid to rest earlier today. We've lost a hero who walked among us, a leader in the truest sense who urged this country to aim higher and be better until the very end. I was humbled and fortunate to know him and as an Alabama native his example inspires me still. It now falls to every American to be a living memorial to John Lewis and to carry forward the work and the mission that defined his life. Throughout the call I'll speak in greater detail about Apple's support for equity and justice topics of great\",\n",
       " \"his example inspires me still. It now falls to every American to be a living memorial to John Lewis and to carry forward the work and the mission that defined his life. Throughout the call I'll speak in greater detail about Apple's support for equity and justice topics of great urgency on a number of fronts, but first I want to pull the lens back to consider the quarter and full. In an uncertain environment Apple saw a quarter of historic results demonstrating the important role our products play in our customers' lives. We set a June quarter record with revenue of $59.7 billion, up 11% from a year ago. Both products and services set June quarter records and grew double-digits and revenue grew in each of our geographic segments, reflecting the broad base of this success. As always and especially in times of real adversity, what makes us proud as a company is not merely what we did, but how we did it. As millions March for justice in big cities and small towns alike, we committed a $100 million to launch Apple's racial equity and justice initiative as well as new and renewed internal efforts to foster diversity\",\n",
       " \"as a company is not merely what we did, but how we did it. As millions March for justice in big cities and small towns alike, we committed a $100 million to launch Apple's racial equity and justice initiative as well as new and renewed internal efforts to foster diversity and inclusion at all levels of the company. As COVID-19 continues to represent great risks for individuals and great uncertainty for our communities, care and adaptability are defining how we conduct our work wherever we work. In some places that has met responsibly reopening our operations and retail stores with enhanced health and safety precautions. In others, where the virus has reemerge it's meant taking the challenging, but necessary step of re-closing stores. I'll touch on these topics more in a little bit. But first I want to offer some more context on the quarter's results. Due to the uncertain and ongoing impacts of COVID-19, we did not provide our typical guidance when we reported our results last quarter, but we did provide some color on how we expected the June quarter to play out. I'd like to contextualize our results in terms of that color across each of our\",\n",
       " \"and ongoing impacts of COVID-19, we did not provide our typical guidance when we reported our results last quarter, but we did provide some color on how we expected the June quarter to play out. I'd like to contextualize our results in terms of that color across each of our product categories beginning with iPhone. iPhone revenue grew 2% this quarter. In April, we expected year-over-year performance to worsen, but we saw better-than-expected demand in May and June. We attribute this increase in demand to several interactive causes including a strong iPhone SE launch, continued economic stimulus, and potentially some benefit from shelter in place restrictions lifting around the world. We expected iPad and Mac growth to accelerate and we saw very strong double-digit growth for these devices this quarter. This remarkable performance came in spite of supply constraints on both products. We're working hard to get more iPads and Macs into customers' hands as quickly as possible recognizing how integral they have become to working and learning from home providing entertainment and staying connected with loved ones. Wearables growth decelerated as we expected, but still grew by strong double-digits and set a revenue record for a non-holiday quarter. Building\",\n",
       " \"Macs into customers' hands as quickly as possible recognizing how integral they have become to working and learning from home providing entertainment and staying connected with loved ones. Wearables growth decelerated as we expected, but still grew by strong double-digits and set a revenue record for a non-holiday quarter. Building on powerful new features built into watchOS 7 and AirPods Pro announced this quarter, we are very excited about the many opportunities in front of us for this product category. These strong results helped drive our installed base of active devices to new all-time records across each of our product categories. Reflecting the deep integration of hardware, software and services, services generated a June quarter record of $13.2 billion, up 15% year-over-year. As we mentioned during our last call, there were two distinct trends we were seeing and they played out as we thought. First, results for advertising and AppleCare were impacted by the reduced level of economic activity and store closures to a degree that was in line with our expectations. Second, we had strong performance in our digital services with all-time revenue records in the App Store, Apple Music, video and cloud services as well as elevated engagement\",\n",
       " \"were impacted by the reduced level of economic activity and store closures to a degree that was in line with our expectations. Second, we had strong performance in our digital services with all-time revenue records in the App Store, Apple Music, video and cloud services as well as elevated engagement on iMessage, Siri and FaceTime. Customers are loving new offerings across Apple services like Apple News today, our new daily audio briefing and Greyhound, our new summer blockbuster starring Tom Hanks. In fact, Apple TV+ just hit a history making 95 awards nominations and 25 wins and accolades. Based on these results and our performance over the last four quarters, we are proud to announce that we have achieved our goal of doubling. Our fiscal 2016 services revenue six months ahead of schedule. We're conscious of the fact that these results stand in stark relief during a time of real economic adversity for businesses large and small and certainly for families. We do not have a zero-sum approach to prosperity and especially in times like this, we are focused on growing the pie, making sure our success isn't just our success and that everything we make, build or do is\",\n",
       " \"economic adversity for businesses large and small and certainly for families. We do not have a zero-sum approach to prosperity and especially in times like this, we are focused on growing the pie, making sure our success isn't just our success and that everything we make, build or do is geared towards creating opportunities for others. The App Store is a great example. This quarter, a new study by independent economists at the Analysis Group founded the App Store facilitated more than 0.5 trillion in commerce globally in 2019 alone. Especially in a time of COVID-19, you can measure economic resilience in the ways in which the App Store supports remote ordering for restaurants, digital commerce for small businesses and an enduring entrepreneurial opportunity for creators and visionaries. Keeping learning vibrant and impactful in the time of COVID-19 is a priority everyone shares. Earlier this month, we announced significant enhancements to the development Swift and Everyone Can Code curricula and we launched a new professional learning course available exclusively to educators. In just two weeks ago, our Community Education initiative added 10 more historically black college and university regional coding centers to our roster, bringing the total to 24 locations\",\n",
       " \"to the development Swift and Everyone Can Code curricula and we launched a new professional learning course available exclusively to educators. In just two weeks ago, our Community Education initiative added 10 more historically black college and university regional coding centers to our roster, bringing the total to 24 locations nationwide, 12 of which are HBCUs and 21 of which serve majority black and brown student populations. In Apple's backyard, we announced that we are allocating $400 million of our multi-year $2.5 billion affordable housing commitment to new housing construction, homebuyer assistance programs and support for those at greatest risk of experiencing homelessness across Silicon Valley. Apple's results this quarter are only possible due to our people and their ongoing ingenuity, flexibility, resilience and determination during these ever-changing times. I want to thank our AppleCare and retail teams who have paired exceptional service during a time of intense demand with great adaptability during a quarter where stores have reopened in some places and reclosed in others. A dedicated team of specialists and experts has shouldered the task of caring for the well-being of our teams and communities store by store, location by location with evidence driven granularity and agility that\",\n",
       " \"great adaptability during a quarter where stores have reopened in some places and reclosed in others. A dedicated team of specialists and experts has shouldered the task of caring for the well-being of our teams and communities store by store, location by location with evidence driven granularity and agility that is unrivaled anywhere. Innovation from adversity certainly define this year's Worldwide Developers Conference as well. This is an event where traditionally Apple's worldwide community of developers gathers together to share, celebrate and do big things together. Though we could not be together in person, Apple set a new standard for what online events can achieve with our celebrated all virtual event. The results here speak for themselves. More than 22 million viewers tuned in across all of Apple streams. For our developers we distributed more than 72 hours of video content. That's three full days of video. The weak saw more than 200 direct video engineering and design sessions and about 4500 person to person appointments with developers across 227 virtual labs. And of course that's even before you get to this year's announcements from iOS 14, which boasts the radical redesign to the home screen, powerful updates to messages,\",\n",
       " \"more than 200 direct video engineering and design sessions and about 4500 person to person appointments with developers across 227 virtual labs. And of course that's even before you get to this year's announcements from iOS 14, which boasts the radical redesign to the home screen, powerful updates to messages, streamlined and effortless app clips and even greater privacy transparency and controls to major updates to Apple Pencil, Siri and calling and iPad OS 14 to much anticipated sleep tracking, new fitness and wellness features and unprecedented customization and watchOS 7 to the new macOS Big Sur boasting the biggest redesign upgrade to macOS since OS X. No less important for Apple's innovation roadmap is our transition to Apple silicon for the Mac. This two-year effort will achieve both unprecedented performance for the Mac and a common architecture across all Apple products. Looking forward, we are profoundly optimistic about Apple's future and we recognize that with this success comes some real responsibility to lead with our values because those values help make that success possible in the first place. We are just as proud of our announcement this month that Apple will be fully carbon-neutral by 2030 across our entire\",\n",
       " \"future and we recognize that with this success comes some real responsibility to lead with our values because those values help make that success possible in the first place. We are just as proud of our announcement this month that Apple will be fully carbon-neutral by 2030 across our entire supply chain and including the energy use of every device we make as we are of any hardware innovation because they spring from the same instinct to leave the world better than we found it. We're committed to standing with those marching for the lives and dignity through our new $100 million commitment to Apple's racial equity and justice initiative, and we're deepening our diversity and inclusion efforts internally because our future as a business is inextricably linked with the future of our communities. There are times when things seem to move slowly when needed progress, economic or social themes bogged down when the instinct to turn away from the horizon and hold onto what you've got fields and ex-capable, and then there are times like this when people of goodwill step forward, when progressed on Moore's itself, when the insistence of hope forces something new. This is an immensely\",\n",
       " \"bogged down when the instinct to turn away from the horizon and hold onto what you've got fields and ex-capable, and then there are times like this when people of goodwill step forward, when progressed on Moore's itself, when the insistence of hope forces something new. This is an immensely challenging moment. COVID-19 is still devastating many places and we have work left to do to care for the health and well-being of the communities in which all of us live and work. But no community of people, whether a company or a country, can afford to miss this call when it comes. At Apple, we never have and we don't intend to start now. With that, I'll hand things off to Luca. Luca Maestri: Thank you, Tim. Good afternoon, everyone. Our June quarter was a testament to Apple's ability to innovate and execute during challenging times. Our results speak to the resilience of our business and the relevance of our products and services in our customers' lives. Total revenue was $59.7 billion, a new June quarter record, up 11% from a year ago, despite a 300 basis point headwind from foreign exchange. Our performance was strong across our entire\",\n",
       " \"to the resilience of our business and the relevance of our products and services in our customers' lives. Total revenue was $59.7 billion, a new June quarter record, up 11% from a year ago, despite a 300 basis point headwind from foreign exchange. Our performance was strong across our entire portfolio as we grew revenue in each of our product categories and set June quarter records for Mac, for Wearables and for services. Similarly, our results were very strong all around the world with growth in all geographic segments and new June quarter records in the Americas, in Europe, in Japan and Rest of Asia-Pacific. Products revenue was $46.5 billion, up 10% and a June quarter record. iPhone returned to growth and we saw very strong double-digit growth from iPad, Mac and Wearables. Lockdowns and point of sale closures were widespread during April and impacted our performance, but we saw demand for all products improve significantly in May and June. As a result of our strong performance and the unmatched loyalty of our customers, our installed base of active devices reached an all-time high in all of our geographic segments and all major product categories. Our services continue to grow\",\n",
       " \"demand for all products improve significantly in May and June. As a result of our strong performance and the unmatched loyalty of our customers, our installed base of active devices reached an all-time high in all of our geographic segments and all major product categories. Our services continue to grow strongly up 15% year-over-year and reached a June quarter record of $13.2 billion. We set all-time records in many services categories and June quarter records in each geographic segment. I'll cover this in more detail later. Company gross margin was 38%. This was down 40 basis points sequentially due to unfavorable FX of 90 basis points and a different mix of products partially offset by cost savings and services mix. Products gross margin was 29.7% decreasing 60 basis points sequentially due to FX and a different mix partially offset by cost savings. Services gross margin was 67.2% up 180 basis points sequentially mainly due to mix. Net income was $11.3 billion and earnings per share were $2.58, up 18% and a June quarter record. Operating cash flow was also a June quarter record at $16.3 billion, an improvement of $4.6 billion over a year ago. Let me get into more\",\n",
       " 'points sequentially mainly due to mix. Net income was $11.3 billion and earnings per share were $2.58, up 18% and a June quarter record. Operating cash flow was also a June quarter record at $16.3 billion, an improvement of $4.6 billion over a year ago. Let me get into more detail for each of our revenue categories. iPhone revenue grew 2% to $26.4 billion with customer demand improving as the quarter progressed. COVID-19 was most impactful during the first three weeks of April when lockdowns and point of sale closures became more widespread in many countries. We saw marked improvement around the world in May and June, which we attribute to an improved level of customer demand helped by the very successful launch of iPhone SE and economic stimulus packages. Our active installed base of iPhones again reached an all-time high as a result of the loyalty of our customer base and strength of our ecosystem. In fact in the US the latest survey of consumers from 451 Research indicates iPhone customer satisfaction of 98% for iPhone 11, 11 Pro and 11 Pro Max combined. Turning to services, as I said, we set a June quarter record of $13.4 billion',\n",
       " 'base and strength of our ecosystem. In fact in the US the latest survey of consumers from 451 Research indicates iPhone customer satisfaction of 98% for iPhone 11, 11 Pro and 11 Pro Max combined. Turning to services, as I said, we set a June quarter record of $13.4 billion of revenue. We had all-time record performance and strong double-digit growth in the App Store, Apple Music, video and cloud services. Our new services Apple TV+, Apple Arcade, Apple News+ and Apple Card are also contributing to overall services growth and continue to add users’ content and features. At the same time customer engagement in our ecosystem continues to grow at a fast pace. The number of both transacting and paid accounts on our digital content stores reached a new all-time high during the June quarter with paid accounts increasing double-digits in each of our geographic segments. In aggregate, paid subscriptions grew more than 35 million sequentially and we now have over 550 million paid subscriptions across the services on our platform, up 130 million from a year ago. With this momentum we remain confident to reach our increased target of 600 million paid subscriptions before the end of calendar',\n",
       " \"subscriptions grew more than 35 million sequentially and we now have over 550 million paid subscriptions across the services on our platform, up 130 million from a year ago. With this momentum we remain confident to reach our increased target of 600 million paid subscriptions before the end of calendar 2020. Wearables, Home and Accessories established a new June quarter record with revenue of $6.5 billion, up 17% year-over-year. Our Wearables business is now the size of a Fortune 140 company and we set June quarter records in the majority of markets we track. Importantly Apple Watch continues to extend its reach with over 75% of the customers purchasing Apple Watch during the quarter new to the product. Next, I'd like to talk about the impressive performance of Mac. Revenue was $7.1 billion, up 22% over last year and a June quarter record. We grew double digits in each geographic segment and set all-time revenue records in Japan and rest of Asia-Pacific as well as June quarter records in the Americas and Europe. Customer response to our new MacBook Air and MacBook Pro launches has been extremely strong. iPad performance was equally impressive with revenue of $6.6 billion, up 31%\",\n",
       " 'segment and set all-time revenue records in Japan and rest of Asia-Pacific as well as June quarter records in the Americas and Europe. Customer response to our new MacBook Air and MacBook Pro launches has been extremely strong. iPad performance was equally impressive with revenue of $6.6 billion, up 31% and our highest June quarter revenue in eight years. Demand was strong around the world with double-digit growth in each of our geographic segments, including a June quarter record in Greater China. The launch of our new iPad Pro has been received incredibly well in every region of the world. Both Mac and iPad are extremely relevant products in the new working and learning environments and the most recent surveys of consumers from 451 Research measured customer satisfaction at 96% for Mac and 97% for iPad. Around half of the customers purchasing Mac and iPad during the quarter were new to that product. And as a result, the active installed base for both products reached a new all-time high. Our retail business had record June quarter revenue. Thanks to the performance of our online store which had records in all geographic segments and grew across all major product categories. In',\n",
       " \"to that product. And as a result, the active installed base for both products reached a new all-time high. Our retail business had record June quarter revenue. Thanks to the performance of our online store which had records in all geographic segments and grew across all major product categories. In June, we launched Apple Card Monthly Installments for more products in our US stores allowing customers to pay for their devices all the time with 0% interest. We're very pleased with the level of customer interest this new offering has generated. In the enterprise market, we continue to see companies leverage Apple products and offerings to successfully navigate their businesses through COVID-19. In healthcare, we are seeing rapid acceleration of telehealth to support a more flexible model of patient care. Many hospitals such as UVA Health, Rush University Medical Center and UC San Diego Health are using apps on iPad and iPhone to have triage, monitor and care for patients who are at home. This helps free up hospital capacity to support patients who need inpatient care while enabling continued care for patients who do not require in-person visits. Since many call center employees are currently working remotely, Apple Business\",\n",
       " 'and iPhone to have triage, monitor and care for patients who are at home. This helps free up hospital capacity to support patients who need inpatient care while enabling continued care for patients who do not require in-person visits. Since many call center employees are currently working remotely, Apple Business Chat has proven an invaluable tool for staying connected with customers. This quarter HSBC deployed Apple Business Chat in its US and UK contact centers. Apple Business Chat provides a flexible and secured channel for digital banking assistance through a native Apple experience improving the efficiency and experience for both customers and agents. We are seeing similar adoption by hundreds of other organizations. Let me now turn to our cash position. We ended the quarter with almost $194 billion in cash plus marketable securities. We issued $8.5 billion of new term debt, retired $7.4 billion of term debt and increased short-term borrowing facilities by $1.1 billion during the quarter leaving us with total debt of $113 billion. As a result, net cash was $81 billion at the end of the quarter and we continue on our path to reaching a net cash neutral position over time. We returned over $21',\n",
       " \"short-term borrowing facilities by $1.1 billion during the quarter leaving us with total debt of $113 billion. As a result, net cash was $81 billion at the end of the quarter and we continue on our path to reaching a net cash neutral position over time. We returned over $21 billion to shareholders during the June quarter, including $3.7 billion in dividends and equivalents and $10 billion through open market repurchases of 31.3 million Apple shares. We also began a $6 billion accelerated share repurchase program in May resulting in the initial delivery and retirement of 15.2 million shares. And finally, we retired an additional 4.8 million shares in the final settlement of our 15th ASR. As we move ahead into the September quarter, I'd like to provide some color on what we are seeing, which includes the types of forward-looking information that Tejas referred to at the beginning of the call. Similar to last quarter, given the uncertainty around the world in the near-term, we will not be issuing revenue and margin guidance for the coming quarter. However, we will provide some additional insight on our expectations for the September quarter for our product categories. On iPhone, we expect\",\n",
       " 'the call. Similar to last quarter, given the uncertainty around the world in the near-term, we will not be issuing revenue and margin guidance for the coming quarter. However, we will provide some additional insight on our expectations for the September quarter for our product categories. On iPhone, we expect to see recent performance continue for our current product lineup, including the strong customer response for iPhone SE. In addition, as you know, last year we started selling new iPhones in late September. This year we project supply to be available a few weeks later. We expect the rest of our product categories to have strong year-over-year performance. For services, we expect the September quarter to have the same trends that we have observed during the June quarter except for AppleCare where during the September quarter a year ago we expanded our distribution significantly. As a consequence, we expect a difficult comp for AppleCare also considering the COVID related point of sale closures this year. For gross margin, keep in mind that we will have a different mix than in prior years as I just explained. For OpEx, we expect to be between $9.8 billion and $9.9 billion. We expect',\n",
       " \"difficult comp for AppleCare also considering the COVID related point of sale closures this year. For gross margin, keep in mind that we will have a different mix than in prior years as I just explained. For OpEx, we expect to be between $9.8 billion and $9.9 billion. We expect the tax rate to be about 16.5% and OI&E to be $50 million. Also today our Board of Directors has declared a cash dividend of $0.82 per share of common stock payable on August 13, 2020 to shareholders of record as of August 10, 2020. And finally, today we're announcing a four for one split of Apple common stock to make our stock more accessible to a broader base of investors. Each shareholder of record at the close of business on August 24, 2020 will receive three additional shares for every outstanding share held on the record date and trading will begin on a split-adjusted basis on August 31st, 2020. With that let's open the call to questions. Tejas Gala: Thank you, Luca. We ask that you limit yourself to two questions. Operator, may we please have the first question? Operator: Yes, that will be from Katy Huberty with Morgan\",\n",
       " \"will begin on a split-adjusted basis on August 31st, 2020. With that let's open the call to questions. Tejas Gala: Thank you, Luca. We ask that you limit yourself to two questions. Operator, may we please have the first question? Operator: Yes, that will be from Katy Huberty with Morgan Stanley. Katy Huberty: Thank you. Good afternoon. Tim in light of the economic adversity that you talked about in the prepared remarks, can you just walk us through how Apple is leveraging finance and trade-in programs to make technology more affordable and accessible during this period, while also addressing the opportunity to recycle and reuse products and maybe also extend that to how these programs might expand over time and then I have a follow-up. Tim Cook: Yes. As Luca mentioned, in June we actually rolled out to the overwhelming balance of our other products the ability to do interest rate, interest free financing in our stores with payments. And that's in addition to trade-in which is becoming a more common trend now which I think is terrific because it is great for the environment and it acts as a subsidy, if you will, against the price of the new\",\n",
       " \"rate, interest free financing in our stores with payments. And that's in addition to trade-in which is becoming a more common trend now which I think is terrific because it is great for the environment and it acts as a subsidy, if you will, against the price of the new phone. And so when you compound these two things with the financing and the trade-in it makes the product super affordable. And we're really happy with what we're seeing in that regard. Katy Huberty: And then, as a follow-up, just specifically to iPhone the category returned to growth. As you pointed out, the installed base is larger today. Our math would suggest that replacement cycles in some cases are elongated. And then you have the affordability element that you just discussed. Does all of that combine to build confidence that we're entering a longer period of iPhone revenue growth after what's been six quarters of decline? Tim Cook: We're very pleased with how we did on iPhone. It was better than we thought largely because as we pointed out in the prepared remarks May and June were much better. If you look at iPhone in totality the things that get\",\n",
       " \"what's been six quarters of decline? Tim Cook: We're very pleased with how we did on iPhone. It was better than we thought largely because as we pointed out in the prepared remarks May and June were much better. If you look at iPhone in totality the things that get me very optimistic is the size of the active installed base. The fact that if you look in the major geographies like the US, we had the top two selling smartphones. In the UK we had three of the top four. In Australia, we had five of the top six. And in Japan we had the top four. Urban China we were, iPhone 11 was the top selling smartphone in the country. And so these are some very different geographies with their very different competitive situations and we're doing fairly well. The iPhone SE, it's also clear that from the early data we're seeing a higher switcher number than we did in the previous year, which we feel very good about. And it also seems to appeal to some people that were holding onto the device a little longer because they wanted a smaller form factor phone. And so the\",\n",
       " \"early data we're seeing a higher switcher number than we did in the previous year, which we feel very good about. And it also seems to appeal to some people that were holding onto the device a little longer because they wanted a smaller form factor phone. And so the combination of the smaller form factor and an incredibly affordable price made the iPhone SE very popular. iPhone 11 is still the most popular smartphone, but iPhone SE definitely helped our results. And as we -- as Lucas said in his outlook, we do see that continuing into this quarter currently. Tejas Gala: Thank you, Katy. Katy Huberty: Thank you. Congrats on the quarter. Tim Cook: Thank you so much. Tejas Gala: Can we have the next question, please? Operator: Yes, that would be from Krish Sankar with Cowen & Company. Krish Sankar: Hi, thanks for taking my question. I have two of them. First one, Tim, when you look at the services business and in terms of your TV+ content production have the movement restrictions impacted the content production efforts? And along the same path four years ago your premonition on services being a $50 billion business in 2020\",\n",
       " \"have two of them. First one, Tim, when you look at the services business and in terms of your TV+ content production have the movement restrictions impacted the content production efforts? And along the same path four years ago your premonition on services being a $50 billion business in 2020 came sooner than expected, I don't know if you want to make any such forecast four years out and how you think services revenue is going to be. Then I have a follow-up for Luca. Tim Cook: I'm sorry. I missed that second question because the audio didn't come through. But I think I got the gist of the first. And that is production has been affected for Apple TV+ as I think it has for most people. We are working to get restarted. I don't have a precise date yet when we will get it restarted, but there will be some impact because we shut down in the March time frame and are yet to really restart in a significant way particularly for those that are shut in the LA area given the current status of the virus and those. And I'm sorry I missed your, the second part\",\n",
       " \"be some impact because we shut down in the March time frame and are yet to really restart in a significant way particularly for those that are shut in the LA area given the current status of the virus and those. And I'm sorry I missed your, the second part of your question. Krish Sankar: Yes, Tim, I was trying to see, four years ago you made a great prediction that services is going to be $50 billion by 2020. I wanted to see if you have any update to the prediction four years down the road? Tim Cook: We're not updating today. We feel good. We want to take the moment and feel good about achieving the doubling six months early. And we do have still hanging out there, as you know, the subscription number that we're shooting for later in the year at 600 million. So we do have that objective out there. Krish Sankar: If I could just squeeze in one for Luca. With the strong sales in Mac given the shelter-in-place, do you think the back-to-school season got pulled in by a quarter or do you expect the momentum to still continue? Thank you very much.\",\n",
       " \"have that objective out there. Krish Sankar: If I could just squeeze in one for Luca. With the strong sales in Mac given the shelter-in-place, do you think the back-to-school season got pulled in by a quarter or do you expect the momentum to still continue? Thank you very much. Luca Maestri: As I said, when I was talking about providing some commentary for the September quarter, we expect all the non-iPhone product categories to have a very strong year-over-year performance. So we definitely, I mean, the back-to-school season is clearly this one and we are very excited not only for the Mac, but also for the iPad. We've got a fantastic lineup of products and we know that these products are incredibly relevant especially given the current circumstances. So we expect the performance that we've seen for Mac in the June quarter to continue. Tejas Gala: Thank you. Can we have the next question, please? Operator: Yes. From Cross Research we'll hear from Shannon Cross. Shannon Cross: Thank you very much. Tim, can you talk a bit about what you're seeing in China? I know the revenue was up 2% and I think Luca talked about record iPad, but\",\n",
       " \"we have the next question, please? Operator: Yes. From Cross Research we'll hear from Shannon Cross. Shannon Cross: Thank you very much. Tim, can you talk a bit about what you're seeing in China? I know the revenue was up 2% and I think Luca talked about record iPad, but just curious as to given their 5G [indiscernible] how you're seeing the market play out? And then I have a follow-up. Thank you. Tim Cook: Shannon, the growth that we -- we did see growth in Greater China for the quarter of 2%, currency affected China, a bit more than in other places, it affected 400 basis points. And so in constant currency, we would have grown at 6%. As I had mentioned before, the iPhone 11 has been our best-selling phone and has been number one in urban China and so we're very, very proud of that. iPad was helped in the June quarter there by the work from home and distance learning as it was in other geographies and the Mac also grew strong double digit during the quarter. And services set a new June quarter record there. We also continue to see extremely high new customer rates\",\n",
       " \"helped in the June quarter there by the work from home and distance learning as it was in other geographies and the Mac also grew strong double digit during the quarter. And services set a new June quarter record there. We also continue to see extremely high new customer rates on Mac and iPad there, to give you a perspective, about three out of four customers that are buying the Mac are new in China and about two out of three that are buying the iPad are new. And so these are numbers that we're super proud of. Shannon Cross: Great. And then, can you talk a little bit more about the decision to bring Mac Silicon in-house, then the benefits that you expect to see or you've seen from vertical integration of acquisitions like the Intel modem business? Thanks. Tim Cook: Thanks. Yes, I mean, what we will end up -- what we'll end up with is a common architecture across all of our products, which gives us some interesting things that we can do in products that are -- that is sort of unleashes another round of innovation. And so I don't want to say a lot about\",\n",
       " \"up -- what we'll end up with is a common architecture across all of our products, which gives us some interesting things that we can do in products that are -- that is sort of unleashes another round of innovation. And so I don't want to say a lot about it, other than we are extremely excited about it, it's something that we've worked on quite a while to get to this point and we're looking forward to shipping the first Mac with Apple Silicon later in the year. Tejas Gala: Thank you, Shannon. Can we have the next question please. Operator: That will come from Amit Daryanani with Evercore. Amit Daryanani: Thanks a lot for taking my question guys. I have one and a follow-up as well. Fortunately, I guess, Tim, if I think about the strength, you're seeing with iPhones right now, do you have a sense in terms of where is this trend coming from? Is it more replacement cycles getting shorter or which is getting new customers into the iOS ecosystem because, clearly these growth rates seem fairly impressive in the context of a pandemic and upcoming refresh cycle that we have? Tim Cook: I think,\",\n",
       " \"terms of where is this trend coming from? Is it more replacement cycles getting shorter or which is getting new customers into the iOS ecosystem because, clearly these growth rates seem fairly impressive in the context of a pandemic and upcoming refresh cycle that we have? Tim Cook: I think, Amit, it's a combination of a strong launch with iPhone SE and some -- probably some pick up because of the economic stimulus that hit different countries at different points in time. And probably some of the reopening that took place across the quarter, particularly in May and June as Store started to reopen. And so it's a combination of all of those. And as you know, we've been having a strong cycle with the iPhone 11 and the 11 Pro. And so when you combine the -- a strong cycle plus and iPhone SE launch, plus the reopening of the stores, et cetera, I think there were a lot of things that we're going in the right direction there. Amit Daryanani: Perfect, that's helpful. And then I guess, Luca, if I could just follow up with you. I'd love to get your perspective on how do we think about\",\n",
       " \"the stores, et cetera, I think there were a lot of things that we're going in the right direction there. Amit Daryanani: Perfect, that's helpful. And then I guess, Luca, if I could just follow up with you. I'd love to get your perspective on how do we think about the overall 38% gross margins? What do you think of the levers to improve this as you go forward, not really September quarter, but over the next one to two years? And in that context, do you see a point where the product gross margin starts to stabilize because they have been trending somewhat lower for the last couple of quarters now. Luca Maestri: Yes. Well, let me start with what we've seen during the June quarter. We were at 38%, we were down slightly sequentially but up the same amount on a year-over-year basis. And really the big negative impact that we felt for several quarters now has been the strength of the US dollar, so the foreign exchange impact on a sequential basis was 90 basis points on a year-over-year basis was 130 basis points. So obviously that is something to keep in mind. And then, the other\",\n",
       " \"impact that we felt for several quarters now has been the strength of the US dollar, so the foreign exchange impact on a sequential basis was 90 basis points on a year-over-year basis was 130 basis points. So obviously that is something to keep in mind. And then, the other aspect; I think it's always important to keep in mind, Amit, is that we sell many different products. They have different margin profiles. And so sometimes a different mix can have an impact on the aggregate level of products gross margins and we are very pleased to see the performance of Mac, iPad and Wearables but obviously, it's a different mix. Going forward, the variables are always the same, is that the foreign exchange will continue to play an impact, the mix of products there, we're going to be selling, will have an impact as well. The commodities market has been relatively benign and we'll see how that plays out over time. As you know now for several years, we've been managing gross margin, I would say, fairly well in spite of some difficult situations like the one with the strength of the dollar and we plan to continue to\",\n",
       " \"been relatively benign and we'll see how that plays out over time. As you know now for several years, we've been managing gross margin, I would say, fairly well in spite of some difficult situations like the one with the strength of the dollar and we plan to continue to make a good trade off decisions between revenue and units and margins. Tejas Gala: Thank you, Amit. Can we have the next question, please? Operator: It will come from Kyle McNealy with Jefferies. Kyle McNealy: Hi, thanks a lot for the question. Our team in Asia recently, we did some survey work on smartphones in China. It showed that there is still a high proportion of the installed bases on 6, 7, 8 devices. I know you talked about the trade-in programs and promotions that you've been doing there. I wonder if you can tell us whether there is anything else that you're doing to get these customers in your latest technology? What made those customers be looking for and how should we think about when an upgrade cycle might come on more strongly there in China? Thanks. Tim Cook: Customers upgraded different at a different pace and I don't\",\n",
       " \"else that you're doing to get these customers in your latest technology? What made those customers be looking for and how should we think about when an upgrade cycle might come on more strongly there in China? Thanks. Tim Cook: Customers upgraded different at a different pace and I don't have in front of me the exact installed base data from China. But much like in other geographies, the upgrades have extended some, it extended some during the depths if you will of the pandemic in China and the rest of the world, and probably to some degree is happening still at this point. The key things that we can do is keep innovating, deliver product that people can't imagine, going through life about. And obviously keep rolling out these programs that makes the front-end purchase be much less, and this is things like the financing in the trade-in programs that you mentioned. And I do feel like those are going quite good in a number of geographies. Kyle McNealy: Okay, great, thanks. And one more if I may. Congrats again on the strong iPad and Mac results, that's really impressive. I guess the obvious question is, should we ever\",\n",
       " \"that you mentioned. And I do feel like those are going quite good in a number of geographies. Kyle McNealy: Okay, great, thanks. And one more if I may. Congrats again on the strong iPad and Mac results, that's really impressive. I guess the obvious question is, should we ever think about how much of that might be pull-forward and what might be the future upgrades in next few years? Anything else you can share on how you think about growth from here or whether there is a hangover period maybe after the back-to-school season or holiday season. That would be helpful. Thanks. Tim Cook: The installed base is growing and the new customer numbers that Luca went over in the aggregate are still very high in the close to 50% kind of range. And so, that to me, makes the -- bodes well for the future. There is clearly, as we had indicated, there is some amount of work from home and remote learning that do affect the results of Mac and iPad positively. They probably affect wearables and iPhone, the other direction. And -- but on Mac and iPad, these are productivity tools that people are using to\",\n",
       " \"as we had indicated, there is some amount of work from home and remote learning that do affect the results of Mac and iPad positively. They probably affect wearables and iPhone, the other direction. And -- but on Mac and iPad, these are productivity tools that people are using to stay engaged with their work or stay engaged with their school work. And we believe we're going to have a strong back to school season. Sitting here today, it certainly looks like that. Tejas Gala: Thank you, Kyle. Kyle McNealy: Great. Thanks very much. Tejas Gala: Can we have the next question, please? Operator: That will come from Cleveland Research's Ben Bollin. Ben Bollin: Good evening, everyone. Thanks for taking the question. Tim, I was hoping you could share a little bit about where you think channel inventory is? You talked about the tightness you saw exiting the June quarter for Mac and iPad. Interested, where you think inventory is across major product categories. And then I had a follow-up for Luca. Tim Cook: We usually -- we've gotten away from talking about channel inventories. But to give you a perspective sitting here looking at it, on iPhone the inventory\",\n",
       " \"for Mac and iPad. Interested, where you think inventory is across major product categories. And then I had a follow-up for Luca. Tim Cook: We usually -- we've gotten away from talking about channel inventories. But to give you a perspective sitting here looking at it, on iPhone the inventory is slightly less than it was a year ago and that's I'm saying that at a quarter end point, so at the end of Q3. And obviously iPad and Mac are constrained and so both of those are less than they were in the year ago quarter. Ben Bollin: Okay. And then, Luca, I'm interested, any color you could share about the impact COVID had on OpEx in the quarter, be it work from home, stipends, travel, other employee support costs. And also how the company is thinking about the longer-term opportunity of employees working remotely maybe more permanently many considerations and how that could influence the future OpEx? Thanks. Luca Maestri: Well, on the OpEx front, there are being obviously certain things that have been affected in terms of cost reductions. Obviously, travel, it is a perfect example. The number of meetings that we have internally, some of those\",\n",
       " \"considerations and how that could influence the future OpEx? Thanks. Luca Maestri: Well, on the OpEx front, there are being obviously certain things that have been affected in terms of cost reductions. Obviously, travel, it is a perfect example. The number of meetings that we have internally, some of those costs have been reduced. We've also invested heavily in initiatives for example, we're really trying to help during a very difficult circumstances. For example, we have had a program for example where we match our employee donations, we made donations directly as a company around the world to many institutions and governments. On a net basis, I would say probably the cost have outweighed the savings both during the March and the June quarter, but we think it's absolutely the right thing to do. From an employee perspective, what we said so far is that here in the United States, in most -- the majority of our population will continue to work from home until the end of the year. And then we'll see, I mean, we've taken an approach that we try to understand how the virus is evolving over time. We've taken a very cautious approach of both\",\n",
       " \"in most -- the majority of our population will continue to work from home until the end of the year. And then we'll see, I mean, we've taken an approach that we try to understand how the virus is evolving over time. We've taken a very cautious approach of both with our corporate facilities and with our retail stores. I think what you've seen with retail stores is that we have reopened in number of geographies around the world. We've reopened here in the United States. We've had to re-close some of the stores yet here in the United States, as the number of cases has gone up. And we will continue to track how the virus is doing. And hopefully at some point, we're going to get to a point where there is a vaccine or there is a cure. And so we will make those decisions as we get more information. Tejas Gala: Thank you. Can we have the next question, please? Operator: That will be from Jeriel Ong with Deutsche Bank. Jeriel Ong: Yes, thank you so much. I have two questions as well. I'd like to focus on the gross margin expansion within the services line\",\n",
       " \"get more information. Tejas Gala: Thank you. Can we have the next question, please? Operator: That will be from Jeriel Ong with Deutsche Bank. Jeriel Ong: Yes, thank you so much. I have two questions as well. I'd like to focus on the gross margin expansion within the services line all-time record for the quarter. I'm just curious whether you think that will sustain, I understand within services is a pretty wide range of gross margins by business, and I'm wondering if that should continue to improve. Tim Cook: Well, as you've seen, obviously, we've had a sequential expansion in gross margin for services. And that was driven primarily by mix as you said, right. We have a very broad portfolio and depending on which one of the services does better than we have an impact on Services gross margins. We like the Services business because it is -- it's a recurring type of revenue and the margins are accretive to company margin. We did over 67% this quarter, but we want to offer very competitive services across the board and the same -- I think I'm going to make the same comments that I made on products. What matters\",\n",
       " \"a recurring type of revenue and the margins are accretive to company margin. We did over 67% this quarter, but we want to offer very competitive services across the board and the same -- I think I'm going to make the same comments that I made on products. What matters to us is to be successful with everything that we do and provide great products and services to our customers. So the relative success of our products and services in the marketplace will drive to a certain extent with our margins are, that's the margins are a byproduct of our success in the marketplace. Jeriel Ong: Got it, really appreciate that. And I wanted to ask question on the Wearables segment. It seems to me that you're categorizing the Wearables business as maybe being a little bit impact from pandemic similar to the iPhones. And it's the first time that Wearables hasn't materially upsided and at least a while in recent memory. I guess the drivers of the Wearables being Watch and predominantly Watch and AirPods. What are your thoughts going forward on whether there is a little bit of pent-up demand perhaps that might resume ads that will get\",\n",
       " \"Wearables hasn't materially upsided and at least a while in recent memory. I guess the drivers of the Wearables being Watch and predominantly Watch and AirPods. What are your thoughts going forward on whether there is a little bit of pent-up demand perhaps that might resume ads that will get back to a more normalized environment? Tim Cook: I think on the Watch in particular is like the iPhone more affected by store closures, because people -- some people want to try on the Watch and see what it looks like, look at different band choices and those sorts of things. And so I think as stores closed, it puts more pressure on that. I was -- we did come out sort of the way we told you last quarter, we were going to come out from the color that we gave you. So we knew things would decelerate because of the closures. So we will end up being, we're very pleased with how we did. But the store closures definitely affect the wearables and the iPhone. Tejas Gala: Thank you, Jeriel. Jeriel Ong: Got it. Really appreciate that. Tejas Gala: Yes. Can we have the next question, please? Operator:\",\n",
       " \"of the closures. So we will end up being, we're very pleased with how we did. But the store closures definitely affect the wearables and the iPhone. Tejas Gala: Thank you, Jeriel. Jeriel Ong: Got it. Really appreciate that. Tejas Gala: Yes. Can we have the next question, please? Operator: That will come from Jim Suva with Citigroup. Jim Suva: Thank you very much. And I have two questions. I'll ask them at the same time and it's one for Tim and one for Luca. Tim, the coronavirus, your company has done a fantastic job at overcoming one of the hurdles. So congratulations to you. As you look forward, say to the Christmas holiday shopping season, and given the economic challenges around the world of virus, coronavirus and your product launches and things like that. Can you give me commentary maybe how this Christmas you're looking forward, to say, maybe some past cycles of Christmas? Because it just seems like it's a little bit different, but Apple is really showing a lot more strength coming into this Christmas than may be some of the past years. And then for Luca, I think you made a quick comment, Luca, that you\",\n",
       " \"some past cycles of Christmas? Because it just seems like it's a little bit different, but Apple is really showing a lot more strength coming into this Christmas than may be some of the past years. And then for Luca, I think you made a quick comment, Luca, that you mentioned something about a few weeks later, was Apple like iPhone, iPhone chips or product launches or maybe expand upon that. I know things are more difficult, but I didn't quite keep the commentary, it was in your prepared comments, we'll go about a few weeks late that let's just have a quick little blood. Thank you so much, gentlemen. Tim Cook: Yes, we take it one quarter at a time. And so, we'll give you color on the December quarter and October. Generally speaking, I think we need to see a vaccine or therapeutic or both. And there is some optimism around that and in that particular timeframe. And so, we'll see, I don't have any information that is publicly available there. But I think that would boost consumer confidence quite a bit if it begins to happen and I think that any kind of consumer style company would\",\n",
       " \"some optimism around that and in that particular timeframe. And so, we'll see, I don't have any information that is publicly available there. But I think that would boost consumer confidence quite a bit if it begins to happen and I think that any kind of consumer style company would benefit from that. Luca Maestri: And Jim, on the iPhone, I said in my remarks that we launched a year ago, we launched the new iPhone in late September. So I was referring to the new product. And I said that this year, the supply of the new product will be a few weeks later than that. Jim Suva: Great. Congratulations to you and your entire organization and teams. Thank you so much. Tim Cook: Thanks so much. Tejas Gala: Thank you. Can we have the next question, please? Operator: That will come from Wamsi Mohan with Bank of America. Wamsi Mohan: Hi. Yes, thank you. I was wondering if you can maybe comment on the penetration of Apple Card users in the iOS installed base? And have you seen any change in the buying behavior of Apple Card users in terms of accelerating spend on more Apple products and\",\n",
       " \"Wamsi Mohan: Hi. Yes, thank you. I was wondering if you can maybe comment on the penetration of Apple Card users in the iOS installed base? And have you seen any change in the buying behavior of Apple Card users in terms of accelerating spend on more Apple products and services? Then I have a follow-on. Tim Cook: We saw changes in consumer spending as the shutdowns occurred and the store closures occurred, we could see that across the Card. It affected the categories that you would guess the most like travel and entertainment et cetera. But overall if you sort of pull the lens out on the Apple Card, we're very happy with the number of people that have Apple Card. We believe based on what we've heard that it's the fastest rollout in the history of credit cards and so we feel very good about that. Wamsi Mohan: Okay. Thanks, Tim. And as a follow-up, now that Apple has Apple Silicon for Macs. Would you ever consider monetizing this as a merchant silicon vendor or is this going to be forever for Apple use? Tim Cook: Well, I don't want to make a forever comment, but there are\",\n",
       " \"Okay. Thanks, Tim. And as a follow-up, now that Apple has Apple Silicon for Macs. Would you ever consider monetizing this as a merchant silicon vendor or is this going to be forever for Apple use? Tim Cook: Well, I don't want to make a forever comment, but there are -- we are a product company and we love making the whole thing. And because if we can -- on the user experience in that way and with the goal of delighting the user. And that's the reason that we're doing the Apple Silicon is because we can envision some products that we can achieve with Apple Silicon that we couldn't achieve otherwise. And so that's how we look at it. Wamsi Mohan: Thanks, Tim. Tejas Gala: Thank you, Wamsi. A replay of today's call will be available for two-week on Apple podcasts as a webcast on apple.com/investor and via telephone. The numbers for the telephone replay are 888-203-1112 or 719-457-0820. Please enter confirmation code 2630782. These replays will be available by approximately 5:00 PM Pacific Time today. Members of the press with additional questions can contact Kristin Huguet at 408-974-2414. Financial analysts can contact me with additional questions at\"]"
      ]
     },
     "execution_count": 11,
     "metadata": {},
     "output_type": "execute_result"
    }
   ],
   "source": [
    "### Remove opening statement of text ###\n",
    "def call_pull(ticker, year, quarter,key = 'e46f1a303dafb62460de104424a00084'):\n",
    "    try:\n",
    "        transcript = requests.get(f'https://financialmodelingprep.com/api/v3/earning_call_transcript/{ticker}?quarter={quarter}&year={year}&apikey={key}').json()\n",
    "        tran = transcript[0]['content']\n",
    "        date = transcript[0]['date']\n",
    "        return tran\n",
    "    except:\n",
    "        pass\n",
    "    \n",
    "def clean_text(ticker, year, quarter):\n",
    "    tran= call_pull(ticker, year, quarter)\n",
    "    dialogue = tran.split('Operator:')[2:-1]\n",
    "    \n",
    "    dialogue = 'operator:'.join(dialogue)\n",
    "    if \"\\n\" in dialogue:\n",
    "        dialogue = dialogue.split('\\n')\n",
    "        for dia in dialogue:\n",
    "#             if dia.endswith('?'):\n",
    "#                 dialogue.remove(dia)\n",
    "            if 'Operator' or 'operator:' in dia:\n",
    "                dialogue.remove(dia)\n",
    "        return dialogue\n",
    "    else:\n",
    "        return np.nan\n",
    "#         dialogue = dialogue.split('.')\n",
    "#         print(dialogue)\n",
    "#         for dia in dialogue:\n",
    "#             if dia.endswith('?'):\n",
    "#                 dialogue.remove(dia)\n",
    "#             if 'Operator' or 'operator:' in dia:\n",
    "#                 dialogue.remove(dia)\n",
    "#         dialogue = '.'.join(dialogue)\n",
    "#         return dialogue\n",
    "\n",
    "def get_split(ticker, year, quarter):\n",
    "  text1 = call_pull(ticker, year, quarter)\n",
    "  l_total = []\n",
    "  l_parcial = []\n",
    "  if len(text1.split())//150 >0:\n",
    "    n = len(text1.split())//150\n",
    "  else: \n",
    "    n = 1\n",
    "  for w in range(n):\n",
    "    if w == 0:\n",
    "      l_parcial = text1.split()[:200]\n",
    "      l_total.append(\" \".join(l_parcial))\n",
    "    else:\n",
    "      l_parcial = text1.split()[w*150:w*150 + 200]\n",
    "      l_total.append(\" \".join(l_parcial))\n",
    "  return l_total\n",
    "\n",
    "\n",
    "\n",
    "x = get_split('AAPL', 2020, 3)\n",
    "x"
   ]
  },
  {
   "cell_type": "code",
   "execution_count": 37,
   "id": "08b6057f",
   "metadata": {},
   "outputs": [
    {
     "ename": "NameError",
     "evalue": "name 'x' is not defined",
     "output_type": "error",
     "traceback": [
      "\u001b[0;31m---------------------------------------------------------------------------\u001b[0m",
      "\u001b[0;31mNameError\u001b[0m                                 Traceback (most recent call last)",
      "\u001b[0;32m<ipython-input-37-6fcf9dfbd479>\u001b[0m in \u001b[0;36m<module>\u001b[0;34m\u001b[0m\n\u001b[0;32m----> 1\u001b[0;31m \u001b[0mx\u001b[0m\u001b[0;34m\u001b[0m\u001b[0;34m\u001b[0m\u001b[0m\n\u001b[0m",
      "\u001b[0;31mNameError\u001b[0m: name 'x' is not defined"
     ]
    }
   ],
   "source": [
    "x"
   ]
  },
  {
   "cell_type": "code",
   "execution_count": 50,
   "id": "1590b6af",
   "metadata": {},
   "outputs": [
    {
     "data": {
      "text/plain": [
       "[\"George Sutton: I'm curious, when we do due diligence and talk to existing and potential customers, what we find is a competitor systems being replaced is a fairly slow process; and you mentioned this quarter, you actually saw a fair of that. I'm curious is there certain functionality or foreign types that are the appeal that's causing that change to be made?\",\n",
       " 'George Sutton: And your product strength and your professional services strength which has been a consistent thing for us to see, can you give us a sense on, is that something we should continue to expect for a period of time? Are we going to start to see the subscription side of it that really start to show that that benefit?',\n",
       " \"George Sutton: Lastly, if I could, Tony, it may be helpful because I've had a few client questions the last few days on the potential virus impact on your PMS business. Obviously, I understand the model, but I'm not sure most people understand what limited impact you might see, if travel were reduced?\",\n",
       " 'operator: [Operator Instructions] Our next question comes from Tyler Wood with Northland Securities.',\n",
       " \"Ramesh Srinivasan: Yes, so, good to talk to you, Tyler. Thank you for joining the call. So, the modules, let's break them up into POS and PMS separately. So, as far as POS is concerned, the two main flagship products that we have our InfoGenesis, which is more staffing solutions; and rGuest Express Kiosk, which is more guest facing kiosk, where the guests can sell help where they can order food items directly from a kiosk, and it just speeds up a lot of cues and other things in employee cafeterias.Now, there we have an additional product called on-demand, which helps you order the food from either your desktop. So imagine you're in the 15th floor of a building and its 11:30 in the morning, and you're getting ready to order lunch, you can order it from your desktop or you can order it from your phone as well, from your smartphone.So, you're sitting in the hotel room, you can order food items from the phone. And it will even give you details of exactly how many minutes they can sell you the food, depending on what kind of pressures there is in the kitchen. So that on-demand product is an additional software module, which is a good margin module for us, that many of our POS customers are considering and a few of them have already purchased.On the PMS side of the business, on the hotel management system, property management system side of the business, there are a number of products that are already getting good traction in the industry. Like one of them is a direct channel web booking system. So, customers have always wanted a web booking system that is PMS aware that can differentiate you from being a platinum player versus a silver player. Customers are always wanted that because most web booking systems that are out there involve commissions and they are not PMS aware. So that is one module. That has already gone live with about five or six customers already.Then the other one is mobile check-in, check-out. So as if you don't need to go to reception counter, stand in a queue, right from your smartphone, you can get a digital key and you can directly walk to your room, or you can do other check-in, check-out facilities. Instead of going to reception counter, you can also walk to a kiosk. So a couple of customers, a couple of big customers have already gone live with them.Then we introduced a product called rGuest Service, which basically optimizes all the tasks and operations in the hotel. So if you are running a hotel, there are a lot of things happening in the hotel, a lot of tasks including housekeeping tasks that you are assigned to various people. And if somebody doesn't react quickly, it should automatically get escalated to a supervisor. So that products completely automats all that and it integrates well with PMS and POS.So, there's a number of software modules like that that we are creating now that is adding strength to POS and PMS. And very often when you go to our competing vendors, they will point you to a third-party company that will do that module, quite for us the advantages because of our R&D strength, we can do it ourselves and it's also much better integrated with all our core products.\",\n",
       " \"Tyler Wood: And I guess going back to the competitive displacements question. You've mentioned kind of factors I could get people to switches, POS refresh. Is there any kind of developments you see on the horizon, be it pay a table or something like that, that would a new feature, that could sort of spur people into having a refresh those?\",\n",
       " \"Ramesh Srinivasan: Yes. So, Tyler, I can't give you one magic bullet like you create one module and suddenly picks a scale over. All these additional modules, right, including pay-at-table, which one of our biggest gaming customers went live with recently and that is an additional thing, the support now. You keep adding all these modules. You keep modernizing your core product. You keep adding more functionality to your core product. And somewhere along the line, the scale tilts in your favor.And with each customer, how much weight does it take to tilt a scale varies. I can't give you one magic module that now that we have that everybody has to go to work. It doesn't happen that way. We keep adding these competitive advantage trends. And for different customers, that tilting of the scale happens at different times, right, or for different reasons. Like there is no one magic module that's going to create it. But as we keep doing all this R&D innovation work, it keeps tilting more and more towards our phase.\",\n",
       " 'operator: Our next question comes from Ishfaque Faruk with Sidoti.',\n",
       " 'Ishfaque Faruk: Gone that guys on the great results. A couple of questions from me. Ramesh, you said you guys got around 18 new customers this quarter. Can you give a sense for how many of those had added PMS solutions?',\n",
       " \"Ramesh Srinivasan: I think out of the 18 new logos, new customers we won, I think the PMS number is four, if I'm not mistaken. Once we finish this college park, I'll -- Tony and Dave will confirm that number for you, but I think the number is four.\",\n",
       " \"Ishfaque Faruk: And Ramesh, you also said that you're seeing your average deal size increasing would reduce churn in terms of more competition. Can you give a sense of like how much you've seen maybe your average deal size is growing relatively maybe on a year-over-year basis?\",\n",
       " \"Ramesh Srinivasan: No, Ishfaque, I don't think -- the three separate things that you mentioned, Ishfaque, average deal size has to do with the fact that when you go sell a product now there are three other modules we can sell in that same deal, which very often the customer picks up. And we don't measure it exactly my average deal size, but we do keep track of how many of our deals more than 50k per and how many of our deals are less than 50k per. And the number -- the value of these deals now selling about 50k per deal have increased. It's now at record levels. That's much we continue, but we can't give you an exact number on that.Customers churn that you mentioned is an entirely different matter, right. That is a matter of regaining the customers we have. And that is because we service the customer better, now we support them better. And customers normally stay with you when they see you innovating and moving the products forward. So more and more our customer retention is world class levels now, our customer churn is going down. And then new customer, this is of course is an entirely different matter that we already talked about.\",\n",
       " 'Ishfaque Faruk: Okay. And last one from me. Tony, I think you mentioned that your R&D group went up to as much as a 738, I believe. Do you guys expect that to flatten out at some point? Or you expect that to move a little higher?',\n",
       " \"Tony Pritchett: Ishfaque, we do expect the R&D team to continue growing on an absolute headcount basis. The R&D team will continue to expand from the 730 number that we mentioned. The way to think about R&D from a financial modeling perspective though, is that, this fiscal year you should be R&D pretty close on an annual basis as a percentage of revenue for last year. It's in the 27%, 28% of revenue range. That's a pretty reasonable number to expect going forward for the near-term.Looking into next year, we don't expect any major shifts in that as a percentage of revenue. In out years, past next year, you'd like to start seeing that number tick down as a percentage of revenue. But yes, we'll continue to expand the team as far as headcount goes. But again, we do that smartly as revenue increases and as the business support the need. And again, percentage of revenue is really where we focus from that perspective.\",\n",
       " 'operator: Our next question comes from Allen Klee with National Securities.',\n",
       " \"Allen Klee: My questions on the PMS side, the growth there has been relatively modest for a while now and I'm just trying to understand what has to change to accelerate that? And how do you think about the timing of what it would take to get that to double digits? Thank you.\",\n",
       " \"Ramesh Srinivasan: Yes. Allen. Good question, Alan. Hey, good to talk to you. Yes, the PMS side of it is, is actually less than modest side. So, that is the core worry that is the biggest elephant in the room for us. And we are improving the products, those products are getting better. Now what you see in the room count that Tony gives you is after implementation. So for example, the four or so customers we have signed this quarter, we have not yet implemented them. They have not yet gone live.So, they will act to the room count in the next quarter, the room count we give you is not a sole room count but an implemented room count. So that will improve over time. But to answer your question, there is still more product work to be done, right, in fact Ishfaque's question about R&D expanding, we are expanding our R&D will continue to do so for the foreseeable future while keeping it as a percentage of revenue at the same or levels below where we are today.But we still have some more product work to finish on the PMS side, before we have the kind of competitive advantage that we currently have with the POS side of the business. In the meanwhile, we are also adding all these additional software modules, which when the core product work gets done will put us in a very, very good spot where our competitive advantage in PMS will also be as big as it is in POS today.So, growing the PMS side of our business has a lot of our focus now Allen. And in terms of taking are revenue and shareholder value and all that to great levels, PMS will start contributing in the next few quarters.\",\n",
       " \"Allen Klee: And then in the guidance, it was mentioned that you're keeping your EBITDA guidance and you would mentioned that that's due to reinvesting some of the higher revenue. Could you maybe give some details of what that's being reinvested in?\",\n",
       " \"Tony Pritchett: Yes. So, Allen as we mentioned, I mean, it's a consistent message last quarter and this quarter as well, where we've seen some opportunity this year is to invest in our SaaS infrastructure. We've seen a lot of growth with our SaaS implementations, and we obviously have a lot of new products coming on. So, there's some SaaS infrastructure investments that we've done as well as the R&D team as we've talked the decent amount about already.And then, with customer facing services personnel and support personnel, there's been some additional headcount added there as well, just to support -- continue to support our customers as well as we can. So, we can help address all of their issues, post implementation and any support all the go-live that are happening. But as you can see, our professional services revenue is growing, that comes from the services team that we've built. And that's where most of the investment that we've talked about admission and that we've invested this fiscal year.\",\n",
       " \"Ramesh Srinivasan: And also Allen, as Tony mentioned in his prepared remarks, even though, we're saying that adjusted EBITDA is growing by 25% this year from 10 million also it was last year. If you remove the 2.2 million software capitalization advantage FY '19 had, it's actually a 60% increase in EBITDA 60. So why you grow revenue by 16% that we are guiding to now, growing EBITDA by 60% is quite significant operating leverage. We don't want to overdo that because we want to make sure that focuses on growing the top-line as well. So, we have balancing that out about as best as we can.\",\n",
       " 'Allen Klee: And then last question on professional services, which has been growing very fast. Can you help us understand like how, if you win it win some business, the timing that it takes to implement? And are you uncomfortable with how long it takes and you get paid up front for that? Or is there an issue of paid? Or is that an area that you think that you have to put more resources into? Thank you very much.',\n",
       " \"Tony Pritchett: So, as far as the payment goes Allen, for professional services, just as a general rule, all of our one-time items that are in a contract. As a general rule, we usually collect 60% of that upfront. That's pretty standard in the industry and generally, that's what we experience as well. Of course, there are certain customers that there's exceptions made for that, et cetera. But generally speaking, 50% of our one-time items upfront and that include professional services.Now, as far as the timing goes of getting installations done, the way to think about that is usually -- and again, this is a broad generalization, but usually we can sign a contract. This quarter, the product revenue would come in this quarter, the professional services would come in a quarter after that, and then the recurring revenue would start coming in a quarter after that. If you're looking at -- generally speaking, it's about a three month lead time from contract signature to implementation.We're pretty happy with that. It's a pretty good balance at this point. And we've got the ability to get customers implemented faster, if they need that. Some customers push out implementations longer than that. So, it's a pretty good balance from that perspective. We're happy with the level that we've got now. Now, as revenue grows as professional services revenue grows, certainly we're going to have to increase the size of the services team. But we feel like profession services margins in the range they're at today, high-40s, mid-to-high-20s, is reasonable to expect going forward. So, we don't expect those margins to come down because we have to add people.\",\n",
       " \"Allen Klee: Actually, can I sneak in one more question? I know you're having your user conference next week. And I was just wondering, kind of what you think that is going to be kind of the focus or there may be something new that you think is important to happen there?\",\n",
       " \"Tony Pritchett: Yes, there's -- Allen, there's no special one-time thing you are expecting in terms of any major announcement or anything like that. So all our customers getting together in the user conference is mostly to give them an update of all the product improvements that have happened in the past 12 months and all the product roadmap, the future improvements that are coming in the next 12 months.Now why that is important for us is that a lot of our customers use either only one of our products or maybe they use two of our products, and now we have a lot more modules and products to offer. So for example, the POS customer it is important, they understand how much advancements we made in the PMS area and vice versa. And if there is already a PMS customer, they should know all the other modules that we have to offer.And the advantages, there will be another customer there, who is actually use that module and who can tell them the kind of return on investment they are getting out of those modules. So there's a lot of shared knowledge among the customers that normally works out very well for us. And also in terms of some of the challenges that they have, they can share with each other as to how the challenge for one of those customers has got sorted out. So that's a major part of it.And we have breakout sessions where we also do training programs, where customers want to get more in-depth training on the products. So, we do that as well. So, it's an excellent gathering of hundreds of customer users. And it also helps us improve our relationships with them, give them both resources update and there is a company is growing, and share with them all those details.So, it's a very powerful event for us that we do once a year that brings our customer base together, and that is a big part of our business growth for us. But no particular, there is no major announcement or anything we are planning at that time. It's a fairly routine once a year even for us.\",\n",
       " \"operator: Thank you. I'm showing no further questions at this time. I will now turn the call back over to Ramesh for any further remarks.\",\n",
       " 'Ramesh Srinivasan: Thank you, Sheri. Thank you all for joining us on the call today and for your continued interest and support. Agilysys continues to be well positioned to increase shareholder value. This is a terrific value creation opportunity. We are determined to make good on for our employees, customers and shareholders.I want to also take this opportunity to give a very special thanks to our 1,200 plus team members across the globe, who are working hard every day to make Agilysys a world class company and to our customers who trust us with their investments now more than ever before. Thank you.',\n",
       " '']"
      ]
     },
     "execution_count": 50,
     "metadata": {},
     "output_type": "execute_result"
    }
   ],
   "source": [
    "dialogue"
   ]
  },
  {
   "cell_type": "code",
   "execution_count": 6,
   "id": "e678d4ab",
   "metadata": {},
   "outputs": [
    {
     "ename": "AttributeError",
     "evalue": "'float' object has no attribute 'split'",
     "output_type": "error",
     "traceback": [
      "\u001b[0;31m---------------------------------------------------------------------------\u001b[0m",
      "\u001b[0;31mAttributeError\u001b[0m                            Traceback (most recent call last)",
      "\u001b[0;32m<ipython-input-6-56d864608aa5>\u001b[0m in \u001b[0;36m<module>\u001b[0;34m\u001b[0m\n\u001b[1;32m     18\u001b[0m \u001b[0;31m# classifier = nltk.NaiveBayesClassifier.train(train_set)\u001b[0m\u001b[0;34m\u001b[0m\u001b[0;34m\u001b[0m\u001b[0;34m\u001b[0m\u001b[0m\n\u001b[1;32m     19\u001b[0m \u001b[0;31m# print(nltk.classify.accuracy(classifier, test_set))\u001b[0m\u001b[0;34m\u001b[0m\u001b[0;34m\u001b[0m\u001b[0;34m\u001b[0m\u001b[0m\n\u001b[0;32m---> 20\u001b[0;31m \u001b[0mx\u001b[0m \u001b[0;34m=\u001b[0m \u001b[0mtest\u001b[0m\u001b[0;34m[\u001b[0m\u001b[0;34m'Transcript'\u001b[0m\u001b[0;34m]\u001b[0m\u001b[0;34m[\u001b[0m\u001b[0;36m10\u001b[0m\u001b[0;34m]\u001b[0m\u001b[0;34m.\u001b[0m\u001b[0msplit\u001b[0m\u001b[0;34m(\u001b[0m\u001b[0;34m'Operator:'\u001b[0m\u001b[0;34m)\u001b[0m\u001b[0;34m\u001b[0m\u001b[0;34m\u001b[0m\u001b[0m\n\u001b[0m\u001b[1;32m     21\u001b[0m \u001b[0;31m# test['Transcript'][10].split('\\n')\u001b[0m\u001b[0;34m\u001b[0m\u001b[0;34m\u001b[0m\u001b[0;34m\u001b[0m\u001b[0m\n\u001b[1;32m     22\u001b[0m \u001b[0mx\u001b[0m\u001b[0;34m\u001b[0m\u001b[0;34m\u001b[0m\u001b[0m\n",
      "\u001b[0;31mAttributeError\u001b[0m: 'float' object has no attribute 'split'"
     ]
    }
   ],
   "source": [
    "# [queations, question, QA, Q/A,]\n",
    "\n",
    "# import nltk\n",
    "# nltk.download('nps_chat')\n",
    "# posts = nltk.corpus.nps_chat.xml_posts()[:10000]\n",
    "\n",
    "\n",
    "# def dialogue_act_features(post):\n",
    "#     features = {}\n",
    "#     for word in nltk.word_tokenize(post):\n",
    "#         features['contains({})'.format(word.lower())] = True\n",
    "#     return features\n",
    "\n",
    "# featuresets = [(dialogue_act_features(post.text), post.get('class')) for post in posts]\n",
    "# featuresets\n",
    "# size = int(len(featuresets) * 0.1)\n",
    "# train_set, test_set = featuresets[size:], featuresets[:size]\n",
    "# classifier = nltk.NaiveBayesClassifier.train(train_set)\n",
    "# print(nltk.classify.accuracy(classifier, test_set))\n",
    "x = test['Transcript'][10].split('Operator:')\n",
    "# test['Transcript'][10].split('\\n')\n",
    "x"
   ]
  },
  {
   "cell_type": "code",
   "execution_count": 16,
   "id": "cf367d05",
   "metadata": {},
   "outputs": [],
   "source": [
    "x = 'this is some? random s ddsd sdsdfs ? ok?'"
   ]
  },
  {
   "cell_type": "code",
   "execution_count": 19,
   "id": "aacbe94a",
   "metadata": {},
   "outputs": [
    {
     "data": {
      "text/plain": [
       "['this is some', ' random s ddsd sdsdfs ', ' ok', '']"
      ]
     },
     "execution_count": 19,
     "metadata": {},
     "output_type": "execute_result"
    }
   ],
   "source": [
    "x.split('?')"
   ]
  },
  {
   "cell_type": "code",
   "execution_count": null,
   "id": "1b9516a8",
   "metadata": {},
   "outputs": [],
   "source": [
    "x = 'this is some? random s ddsd sdsdfs ? ok"
   ]
  },
  {
   "cell_type": "code",
   "execution_count": null,
   "id": "3054f664",
   "metadata": {},
   "outputs": [],
   "source": []
  },
  {
   "cell_type": "code",
   "execution_count": null,
   "id": "ff18bb9c",
   "metadata": {},
   "outputs": [],
   "source": []
  },
  {
   "cell_type": "code",
   "execution_count": null,
   "id": "63313c5e",
   "metadata": {},
   "outputs": [],
   "source": []
  },
  {
   "cell_type": "code",
   "execution_count": 29,
   "id": "fd0c9fab",
   "metadata": {},
   "outputs": [],
   "source": [
    "tech = ['ACIW', 'ACLS', 'AGYS', 'ALRM', 'AMBA', 'AMKR', 'AMSWA', 'APPF',\n",
    "       'ATOM', 'AVID', 'AVNW', 'AVT', 'AXTI', 'AZPN', 'BBSI', 'BCOV',\n",
    "       'BL', 'BLKB', 'BRKS', 'CAMP', 'CCMP', 'CCRN', 'CEVA', 'CLSK',\n",
    "       'CMTL', 'COMM', 'CPSI', 'CRUS', 'CSGS', 'CSOD', 'CVLT', 'DCT',\n",
    "       'DGII', 'DIOD', 'DMRC', 'DSGX', 'EBIX', 'EPAY', 'ERII', 'EVBG',\n",
    "       'EXTR', 'FEYE', 'FORM', 'FSLR', 'GFN', 'GLUU', 'GRPN', 'GTYH',\n",
    "       'HLIT', 'HSII', 'HSTM', 'ICHR', 'INOV', 'INTZ', 'IPHI', 'JCOM',\n",
    "       'KE', 'KELYA', 'KELYB', 'KFRC', 'KOPN', 'LECO', 'LORL', 'LPSN',\n",
    "       'LSCC', 'LTRPA', 'LTRPB', 'MANH', 'MARA', 'MDRX', 'MGRC', 'MIDD',\n",
    "       'MITK', 'MTSI', 'NATI', 'NH', 'NTCT', 'NTNX', 'NVEC', 'NXGN',\n",
    "       'OMCL', 'OSIS', 'PCTY', 'PDFS', 'PEGA', 'PFPT', 'PLAB', 'PLUS',\n",
    "       'PLXS', 'POWI', 'PRFT', 'PRGS', 'QADA', 'QADB', 'QLYS', 'QMCO',\n",
    "       'RBBN', 'RCII', 'RMBS', 'RP', 'RPD', 'SABR', 'SANM', 'SCSC',\n",
    "       'SCWX', 'SGMS', 'SLAB', 'SLP', 'SMCI', 'SMTC', 'SPSC', 'SPWR',\n",
    "       'SSYS', 'SWIR', 'SYKE', 'SYNA', 'TCX', 'TRIP', 'TRUE', 'TTEC',\n",
    "       'TTMI', 'TWOU', 'UCTT', 'UPLD', 'VECO', 'VIAV', 'VOXX', 'VRNS',\n",
    "       'VRNT', 'VSAT', 'VUZI', 'ZIXI']"
   ]
  },
  {
   "cell_type": "code",
   "execution_count": 30,
   "id": "a63b41f2",
   "metadata": {},
   "outputs": [
    {
     "name": "stdout",
     "output_type": "stream",
     "text": [
      "{'error': 'Please use an API key.'}\n"
     ]
    }
   ],
   "source": [
    "import requests\n",
    "r = requests.get('https://finnhub.io/api/v1/stock/transcripts/list?symbol=AAPL&token=')\n",
    "print(r.json())"
   ]
  },
  {
   "cell_type": "code",
   "execution_count": null,
   "id": "fff2eec6",
   "metadata": {},
   "outputs": [],
   "source": []
  }
 ],
 "metadata": {
  "kernelspec": {
   "display_name": "Python 3",
   "language": "python",
   "name": "python3"
  },
  "language_info": {
   "codemirror_mode": {
    "name": "ipython",
    "version": 3
   },
   "file_extension": ".py",
   "mimetype": "text/x-python",
   "name": "python",
   "nbconvert_exporter": "python",
   "pygments_lexer": "ipython3",
   "version": "3.7.7"
  }
 },
 "nbformat": 4,
 "nbformat_minor": 5
}
